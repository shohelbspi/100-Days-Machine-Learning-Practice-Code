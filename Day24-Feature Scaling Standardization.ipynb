{
 "cells": [
  {
   "cell_type": "markdown",
   "id": "6ba95e0a",
   "metadata": {},
   "source": [
    "# What is Feature Scaling"
   ]
  },
  {
   "cell_type": "markdown",
   "id": "49e0f603",
   "metadata": {},
   "source": [
    "***Feature Scaling is a technique to stanardize the independent features present in the data in a fixes range***"
   ]
  },
  {
   "cell_type": "markdown",
   "id": "bad6b470",
   "metadata": {},
   "source": [
    "# Why Do we need Feature Scaling"
   ]
  },
  {
   "cell_type": "markdown",
   "id": "b304dccf",
   "metadata": {},
   "source": [
    "# Types Of Feature Scaling?\n",
    " \n",
    "### 1.Standardization\n",
    "### 2.Normalization"
   ]
  },
  {
   "cell_type": "markdown",
   "id": "2f16cf2a",
   "metadata": {},
   "source": [
    "# 1.Standardization\n",
    "#### Also called as Z-score Normalization\n",
    "#### Formula: Xi'    = xi-x_mean/std\n",
    "#### mean always 0 and std always "
   ]
  },
  {
   "cell_type": "code",
   "execution_count": 1,
   "id": "66c9c97e",
   "metadata": {},
   "outputs": [],
   "source": [
    "import numpy as np\n",
    "import pandas as pd\n",
    "import seaborn as sns\n",
    "import matplotlib.pyplot as plt\n"
   ]
  },
  {
   "cell_type": "code",
   "execution_count": 2,
   "id": "712cd8bb",
   "metadata": {},
   "outputs": [],
   "source": [
    "df = pd.read_csv('datasets/Social_Network_Ads.csv')"
   ]
  },
  {
   "cell_type": "code",
   "execution_count": 3,
   "id": "608376b0",
   "metadata": {},
   "outputs": [
    {
     "data": {
      "text/html": [
       "<div>\n",
       "<style scoped>\n",
       "    .dataframe tbody tr th:only-of-type {\n",
       "        vertical-align: middle;\n",
       "    }\n",
       "\n",
       "    .dataframe tbody tr th {\n",
       "        vertical-align: top;\n",
       "    }\n",
       "\n",
       "    .dataframe thead th {\n",
       "        text-align: right;\n",
       "    }\n",
       "</style>\n",
       "<table border=\"1\" class=\"dataframe\">\n",
       "  <thead>\n",
       "    <tr style=\"text-align: right;\">\n",
       "      <th></th>\n",
       "      <th>User ID</th>\n",
       "      <th>Gender</th>\n",
       "      <th>Age</th>\n",
       "      <th>EstimatedSalary</th>\n",
       "      <th>Purchased</th>\n",
       "    </tr>\n",
       "  </thead>\n",
       "  <tbody>\n",
       "    <tr>\n",
       "      <th>0</th>\n",
       "      <td>15624510</td>\n",
       "      <td>Male</td>\n",
       "      <td>19</td>\n",
       "      <td>19000</td>\n",
       "      <td>0</td>\n",
       "    </tr>\n",
       "    <tr>\n",
       "      <th>1</th>\n",
       "      <td>15810944</td>\n",
       "      <td>Male</td>\n",
       "      <td>35</td>\n",
       "      <td>20000</td>\n",
       "      <td>0</td>\n",
       "    </tr>\n",
       "    <tr>\n",
       "      <th>2</th>\n",
       "      <td>15668575</td>\n",
       "      <td>Female</td>\n",
       "      <td>26</td>\n",
       "      <td>43000</td>\n",
       "      <td>0</td>\n",
       "    </tr>\n",
       "  </tbody>\n",
       "</table>\n",
       "</div>"
      ],
      "text/plain": [
       "    User ID  Gender  Age  EstimatedSalary  Purchased\n",
       "0  15624510    Male   19            19000          0\n",
       "1  15810944    Male   35            20000          0\n",
       "2  15668575  Female   26            43000          0"
      ]
     },
     "execution_count": 3,
     "metadata": {},
     "output_type": "execute_result"
    }
   ],
   "source": [
    "df.head(3)"
   ]
  },
  {
   "cell_type": "code",
   "execution_count": null,
   "id": "e3944656",
   "metadata": {},
   "outputs": [],
   "source": []
  },
  {
   "cell_type": "code",
   "execution_count": 4,
   "id": "9333f91d",
   "metadata": {},
   "outputs": [],
   "source": [
    "x = df.drop(['User ID','Purchased','Gender'],axis=1)\n",
    "y = df['Purchased']"
   ]
  },
  {
   "cell_type": "code",
   "execution_count": 5,
   "id": "446c9faa",
   "metadata": {},
   "outputs": [],
   "source": [
    "from sklearn.model_selection import train_test_split\n",
    "\n",
    "x_train,x_test,y_train,y_test = train_test_split(x,y,test_size=0.3)"
   ]
  },
  {
   "cell_type": "code",
   "execution_count": 6,
   "id": "0063bb23",
   "metadata": {},
   "outputs": [
    {
     "data": {
      "text/plain": [
       "((280, 2), (120, 2))"
      ]
     },
     "execution_count": 6,
     "metadata": {},
     "output_type": "execute_result"
    }
   ],
   "source": [
    "x_train.shape,x_test.shape"
   ]
  },
  {
   "cell_type": "code",
   "execution_count": 7,
   "id": "61cacaf3",
   "metadata": {},
   "outputs": [],
   "source": [
    "from sklearn.preprocessing import StandardScaler"
   ]
  },
  {
   "cell_type": "code",
   "execution_count": 8,
   "id": "40762f9f",
   "metadata": {},
   "outputs": [
    {
     "name": "stdout",
     "output_type": "stream",
     "text": [
      "37.582142857142856\n",
      "67400.0\n"
     ]
    }
   ],
   "source": [
    "scaler = StandardScaler()\n",
    "\n",
    "print(x_train['Age'].mean())\n",
    "print(x_train['EstimatedSalary'].mean())"
   ]
  },
  {
   "cell_type": "code",
   "execution_count": 9,
   "id": "6515b996",
   "metadata": {},
   "outputs": [
    {
     "name": "stdout",
     "output_type": "stream",
     "text": [
      "10.55181968276143\n",
      "33312.100764552066\n"
     ]
    }
   ],
   "source": [
    "print(x_train['Age'].std())\n",
    "print(x_train['EstimatedSalary'].std())"
   ]
  },
  {
   "cell_type": "code",
   "execution_count": 10,
   "id": "31b76f29",
   "metadata": {},
   "outputs": [
    {
     "name": "stdout",
     "output_type": "stream",
     "text": [
      "10.362069242752465\n",
      "35403.056373146996\n"
     ]
    }
   ],
   "source": [
    "print(x_test['Age'].std())\n",
    "print(x_test['EstimatedSalary'].std())"
   ]
  },
  {
   "cell_type": "code",
   "execution_count": 11,
   "id": "7cb532c4",
   "metadata": {},
   "outputs": [
    {
     "name": "stdout",
     "output_type": "stream",
     "text": [
      "37.825\n",
      "75208.33333333333\n"
     ]
    }
   ],
   "source": [
    "print(x_test['Age'].mean())\n",
    "print(x_test['EstimatedSalary'].mean())"
   ]
  },
  {
   "cell_type": "code",
   "execution_count": 12,
   "id": "c03ba8b8",
   "metadata": {},
   "outputs": [],
   "source": [
    "x_train_scale = scaler.fit_transform(x_train)\n",
    "x_test_scale = scaler.transform(x_test)"
   ]
  },
  {
   "cell_type": "code",
   "execution_count": 13,
   "id": "f91b4e46",
   "metadata": {},
   "outputs": [],
   "source": [
    "x_train_scale = pd.DataFrame(x_train_scale,columns=x_train.columns)"
   ]
  },
  {
   "cell_type": "code",
   "execution_count": 14,
   "id": "48db9f8c",
   "metadata": {},
   "outputs": [
    {
     "data": {
      "text/html": [
       "<div>\n",
       "<style scoped>\n",
       "    .dataframe tbody tr th:only-of-type {\n",
       "        vertical-align: middle;\n",
       "    }\n",
       "\n",
       "    .dataframe tbody tr th {\n",
       "        vertical-align: top;\n",
       "    }\n",
       "\n",
       "    .dataframe thead th {\n",
       "        text-align: right;\n",
       "    }\n",
       "</style>\n",
       "<table border=\"1\" class=\"dataframe\">\n",
       "  <thead>\n",
       "    <tr style=\"text-align: right;\">\n",
       "      <th></th>\n",
       "      <th>Age</th>\n",
       "      <th>EstimatedSalary</th>\n",
       "    </tr>\n",
       "  </thead>\n",
       "  <tbody>\n",
       "    <tr>\n",
       "      <th>0</th>\n",
       "      <td>1.368832</td>\n",
       "      <td>2.484019</td>\n",
       "    </tr>\n",
       "    <tr>\n",
       "      <th>1</th>\n",
       "      <td>1.463772</td>\n",
       "      <td>1.100667</td>\n",
       "    </tr>\n",
       "    <tr>\n",
       "      <th>2</th>\n",
       "      <td>-1.099609</td>\n",
       "      <td>-1.575818</td>\n",
       "    </tr>\n",
       "    <tr>\n",
       "      <th>3</th>\n",
       "      <td>-0.909729</td>\n",
       "      <td>0.348845</td>\n",
       "    </tr>\n",
       "    <tr>\n",
       "      <th>4</th>\n",
       "      <td>2.033413</td>\n",
       "      <td>0.619501</td>\n",
       "    </tr>\n",
       "    <tr>\n",
       "      <th>...</th>\n",
       "      <td>...</td>\n",
       "      <td>...</td>\n",
       "    </tr>\n",
       "    <tr>\n",
       "      <th>275</th>\n",
       "      <td>-0.245149</td>\n",
       "      <td>0.108262</td>\n",
       "    </tr>\n",
       "    <tr>\n",
       "      <th>276</th>\n",
       "      <td>-1.289490</td>\n",
       "      <td>-1.455527</td>\n",
       "    </tr>\n",
       "    <tr>\n",
       "      <th>277</th>\n",
       "      <td>-0.719849</td>\n",
       "      <td>1.461542</td>\n",
       "    </tr>\n",
       "    <tr>\n",
       "      <th>278</th>\n",
       "      <td>1.463772</td>\n",
       "      <td>0.439064</td>\n",
       "    </tr>\n",
       "    <tr>\n",
       "      <th>279</th>\n",
       "      <td>0.134611</td>\n",
       "      <td>0.348845</td>\n",
       "    </tr>\n",
       "  </tbody>\n",
       "</table>\n",
       "<p>280 rows × 2 columns</p>\n",
       "</div>"
      ],
      "text/plain": [
       "          Age  EstimatedSalary\n",
       "0    1.368832         2.484019\n",
       "1    1.463772         1.100667\n",
       "2   -1.099609        -1.575818\n",
       "3   -0.909729         0.348845\n",
       "4    2.033413         0.619501\n",
       "..        ...              ...\n",
       "275 -0.245149         0.108262\n",
       "276 -1.289490        -1.455527\n",
       "277 -0.719849         1.461542\n",
       "278  1.463772         0.439064\n",
       "279  0.134611         0.348845\n",
       "\n",
       "[280 rows x 2 columns]"
      ]
     },
     "execution_count": 14,
     "metadata": {},
     "output_type": "execute_result"
    }
   ],
   "source": [
    "x_train_scale"
   ]
  },
  {
   "cell_type": "code",
   "execution_count": 15,
   "id": "0ded8d08",
   "metadata": {},
   "outputs": [],
   "source": [
    "x_test_scale = pd.DataFrame(x_test_scale,columns=x_train.columns)"
   ]
  },
  {
   "cell_type": "code",
   "execution_count": 16,
   "id": "66fe8d25",
   "metadata": {},
   "outputs": [
    {
     "data": {
      "text/html": [
       "<div>\n",
       "<style scoped>\n",
       "    .dataframe tbody tr th:only-of-type {\n",
       "        vertical-align: middle;\n",
       "    }\n",
       "\n",
       "    .dataframe tbody tr th {\n",
       "        vertical-align: top;\n",
       "    }\n",
       "\n",
       "    .dataframe thead th {\n",
       "        text-align: right;\n",
       "    }\n",
       "</style>\n",
       "<table border=\"1\" class=\"dataframe\">\n",
       "  <thead>\n",
       "    <tr style=\"text-align: right;\">\n",
       "      <th></th>\n",
       "      <th>Age</th>\n",
       "      <th>EstimatedSalary</th>\n",
       "    </tr>\n",
       "  </thead>\n",
       "  <tbody>\n",
       "    <tr>\n",
       "      <th>0</th>\n",
       "      <td>-0.529969</td>\n",
       "      <td>1.491614</td>\n",
       "    </tr>\n",
       "    <tr>\n",
       "      <th>1</th>\n",
       "      <td>-1.194550</td>\n",
       "      <td>-1.365308</td>\n",
       "    </tr>\n",
       "    <tr>\n",
       "      <th>2</th>\n",
       "      <td>-1.099609</td>\n",
       "      <td>0.378918</td>\n",
       "    </tr>\n",
       "    <tr>\n",
       "      <th>3</th>\n",
       "      <td>-0.245149</td>\n",
       "      <td>-0.192466</td>\n",
       "    </tr>\n",
       "    <tr>\n",
       "      <th>4</th>\n",
       "      <td>2.128353</td>\n",
       "      <td>-1.004434</td>\n",
       "    </tr>\n",
       "    <tr>\n",
       "      <th>...</th>\n",
       "      <td>...</td>\n",
       "      <td>...</td>\n",
       "    </tr>\n",
       "    <tr>\n",
       "      <th>115</th>\n",
       "      <td>-0.150209</td>\n",
       "      <td>0.950303</td>\n",
       "    </tr>\n",
       "    <tr>\n",
       "      <th>116</th>\n",
       "      <td>1.938473</td>\n",
       "      <td>-0.884142</td>\n",
       "    </tr>\n",
       "    <tr>\n",
       "      <th>117</th>\n",
       "      <td>-0.719849</td>\n",
       "      <td>-1.575818</td>\n",
       "    </tr>\n",
       "    <tr>\n",
       "      <th>118</th>\n",
       "      <td>0.134611</td>\n",
       "      <td>0.108262</td>\n",
       "    </tr>\n",
       "    <tr>\n",
       "      <th>119</th>\n",
       "      <td>-1.669250</td>\n",
       "      <td>-0.553341</td>\n",
       "    </tr>\n",
       "  </tbody>\n",
       "</table>\n",
       "<p>120 rows × 2 columns</p>\n",
       "</div>"
      ],
      "text/plain": [
       "          Age  EstimatedSalary\n",
       "0   -0.529969         1.491614\n",
       "1   -1.194550        -1.365308\n",
       "2   -1.099609         0.378918\n",
       "3   -0.245149        -0.192466\n",
       "4    2.128353        -1.004434\n",
       "..        ...              ...\n",
       "115 -0.150209         0.950303\n",
       "116  1.938473        -0.884142\n",
       "117 -0.719849        -1.575818\n",
       "118  0.134611         0.108262\n",
       "119 -1.669250        -0.553341\n",
       "\n",
       "[120 rows x 2 columns]"
      ]
     },
     "execution_count": 16,
     "metadata": {},
     "output_type": "execute_result"
    }
   ],
   "source": [
    "x_test_scale"
   ]
  },
  {
   "cell_type": "code",
   "execution_count": 17,
   "id": "56b6d8f4",
   "metadata": {},
   "outputs": [
    {
     "name": "stdout",
     "output_type": "stream",
     "text": [
      "0.023056874428722587\n",
      "0.23481900169070488\n"
     ]
    }
   ],
   "source": [
    "print(x_test_scale['Age'].mean())\n",
    "print(x_test_scale['EstimatedSalary'].mean())"
   ]
  },
  {
   "cell_type": "code",
   "execution_count": 18,
   "id": "4cad0908",
   "metadata": {},
   "outputs": [
    {
     "name": "stdout",
     "output_type": "stream",
     "text": [
      "0.9837755914488786\n",
      "1.0646715501825559\n"
     ]
    }
   ],
   "source": [
    "print(x_test_scale['Age'].std())\n",
    "print(x_test_scale['EstimatedSalary'].std())"
   ]
  },
  {
   "cell_type": "code",
   "execution_count": 19,
   "id": "e5c6b2c8",
   "metadata": {},
   "outputs": [
    {
     "data": {
      "text/html": [
       "<div>\n",
       "<style scoped>\n",
       "    .dataframe tbody tr th:only-of-type {\n",
       "        vertical-align: middle;\n",
       "    }\n",
       "\n",
       "    .dataframe tbody tr th {\n",
       "        vertical-align: top;\n",
       "    }\n",
       "\n",
       "    .dataframe thead th {\n",
       "        text-align: right;\n",
       "    }\n",
       "</style>\n",
       "<table border=\"1\" class=\"dataframe\">\n",
       "  <thead>\n",
       "    <tr style=\"text-align: right;\">\n",
       "      <th></th>\n",
       "      <th>Age</th>\n",
       "      <th>EstimatedSalary</th>\n",
       "    </tr>\n",
       "  </thead>\n",
       "  <tbody>\n",
       "    <tr>\n",
       "      <th>count</th>\n",
       "      <td>280.000000</td>\n",
       "      <td>280.000000</td>\n",
       "    </tr>\n",
       "    <tr>\n",
       "      <th>mean</th>\n",
       "      <td>37.582143</td>\n",
       "      <td>67400.000000</td>\n",
       "    </tr>\n",
       "    <tr>\n",
       "      <th>std</th>\n",
       "      <td>10.551820</td>\n",
       "      <td>33312.100765</td>\n",
       "    </tr>\n",
       "    <tr>\n",
       "      <th>min</th>\n",
       "      <td>18.000000</td>\n",
       "      <td>15000.000000</td>\n",
       "    </tr>\n",
       "    <tr>\n",
       "      <th>25%</th>\n",
       "      <td>29.750000</td>\n",
       "      <td>42000.000000</td>\n",
       "    </tr>\n",
       "    <tr>\n",
       "      <th>50%</th>\n",
       "      <td>37.000000</td>\n",
       "      <td>68500.000000</td>\n",
       "    </tr>\n",
       "    <tr>\n",
       "      <th>75%</th>\n",
       "      <td>46.000000</td>\n",
       "      <td>86000.000000</td>\n",
       "    </tr>\n",
       "    <tr>\n",
       "      <th>max</th>\n",
       "      <td>60.000000</td>\n",
       "      <td>150000.000000</td>\n",
       "    </tr>\n",
       "  </tbody>\n",
       "</table>\n",
       "</div>"
      ],
      "text/plain": [
       "              Age  EstimatedSalary\n",
       "count  280.000000       280.000000\n",
       "mean    37.582143     67400.000000\n",
       "std     10.551820     33312.100765\n",
       "min     18.000000     15000.000000\n",
       "25%     29.750000     42000.000000\n",
       "50%     37.000000     68500.000000\n",
       "75%     46.000000     86000.000000\n",
       "max     60.000000    150000.000000"
      ]
     },
     "execution_count": 19,
     "metadata": {},
     "output_type": "execute_result"
    }
   ],
   "source": [
    "x_train.describe()"
   ]
  },
  {
   "cell_type": "code",
   "execution_count": 20,
   "id": "72803b81",
   "metadata": {},
   "outputs": [
    {
     "data": {
      "text/html": [
       "<div>\n",
       "<style scoped>\n",
       "    .dataframe tbody tr th:only-of-type {\n",
       "        vertical-align: middle;\n",
       "    }\n",
       "\n",
       "    .dataframe tbody tr th {\n",
       "        vertical-align: top;\n",
       "    }\n",
       "\n",
       "    .dataframe thead th {\n",
       "        text-align: right;\n",
       "    }\n",
       "</style>\n",
       "<table border=\"1\" class=\"dataframe\">\n",
       "  <thead>\n",
       "    <tr style=\"text-align: right;\">\n",
       "      <th></th>\n",
       "      <th>Age</th>\n",
       "      <th>EstimatedSalary</th>\n",
       "    </tr>\n",
       "  </thead>\n",
       "  <tbody>\n",
       "    <tr>\n",
       "      <th>count</th>\n",
       "      <td>280.0</td>\n",
       "      <td>280.0</td>\n",
       "    </tr>\n",
       "    <tr>\n",
       "      <th>mean</th>\n",
       "      <td>0.0</td>\n",
       "      <td>0.0</td>\n",
       "    </tr>\n",
       "    <tr>\n",
       "      <th>std</th>\n",
       "      <td>1.0</td>\n",
       "      <td>1.0</td>\n",
       "    </tr>\n",
       "    <tr>\n",
       "      <th>min</th>\n",
       "      <td>-1.9</td>\n",
       "      <td>-1.6</td>\n",
       "    </tr>\n",
       "    <tr>\n",
       "      <th>25%</th>\n",
       "      <td>-0.7</td>\n",
       "      <td>-0.8</td>\n",
       "    </tr>\n",
       "    <tr>\n",
       "      <th>50%</th>\n",
       "      <td>-0.1</td>\n",
       "      <td>0.0</td>\n",
       "    </tr>\n",
       "    <tr>\n",
       "      <th>75%</th>\n",
       "      <td>0.8</td>\n",
       "      <td>0.6</td>\n",
       "    </tr>\n",
       "    <tr>\n",
       "      <th>max</th>\n",
       "      <td>2.1</td>\n",
       "      <td>2.5</td>\n",
       "    </tr>\n",
       "  </tbody>\n",
       "</table>\n",
       "</div>"
      ],
      "text/plain": [
       "         Age  EstimatedSalary\n",
       "count  280.0            280.0\n",
       "mean     0.0              0.0\n",
       "std      1.0              1.0\n",
       "min     -1.9             -1.6\n",
       "25%     -0.7             -0.8\n",
       "50%     -0.1              0.0\n",
       "75%      0.8              0.6\n",
       "max      2.1              2.5"
      ]
     },
     "execution_count": 20,
     "metadata": {},
     "output_type": "execute_result"
    }
   ],
   "source": [
    "np.round(x_train_scale.describe(),1)"
   ]
  },
  {
   "cell_type": "code",
   "execution_count": 21,
   "id": "39d5f5f1",
   "metadata": {},
   "outputs": [
    {
     "data": {
      "text/html": [
       "<div>\n",
       "<style scoped>\n",
       "    .dataframe tbody tr th:only-of-type {\n",
       "        vertical-align: middle;\n",
       "    }\n",
       "\n",
       "    .dataframe tbody tr th {\n",
       "        vertical-align: top;\n",
       "    }\n",
       "\n",
       "    .dataframe thead th {\n",
       "        text-align: right;\n",
       "    }\n",
       "</style>\n",
       "<table border=\"1\" class=\"dataframe\">\n",
       "  <thead>\n",
       "    <tr style=\"text-align: right;\">\n",
       "      <th></th>\n",
       "      <th>Age</th>\n",
       "      <th>EstimatedSalary</th>\n",
       "    </tr>\n",
       "  </thead>\n",
       "  <tbody>\n",
       "    <tr>\n",
       "      <th>count</th>\n",
       "      <td>120.0</td>\n",
       "      <td>120.0</td>\n",
       "    </tr>\n",
       "    <tr>\n",
       "      <th>mean</th>\n",
       "      <td>0.0</td>\n",
       "      <td>0.2</td>\n",
       "    </tr>\n",
       "    <tr>\n",
       "      <th>std</th>\n",
       "      <td>1.0</td>\n",
       "      <td>1.1</td>\n",
       "    </tr>\n",
       "    <tr>\n",
       "      <th>min</th>\n",
       "      <td>-1.9</td>\n",
       "      <td>-1.6</td>\n",
       "    </tr>\n",
       "    <tr>\n",
       "      <th>25%</th>\n",
       "      <td>-0.7</td>\n",
       "      <td>-0.5</td>\n",
       "    </tr>\n",
       "    <tr>\n",
       "      <th>50%</th>\n",
       "      <td>-0.1</td>\n",
       "      <td>0.1</td>\n",
       "    </tr>\n",
       "    <tr>\n",
       "      <th>75%</th>\n",
       "      <td>0.7</td>\n",
       "      <td>0.9</td>\n",
       "    </tr>\n",
       "    <tr>\n",
       "      <th>max</th>\n",
       "      <td>2.1</td>\n",
       "      <td>2.4</td>\n",
       "    </tr>\n",
       "  </tbody>\n",
       "</table>\n",
       "</div>"
      ],
      "text/plain": [
       "         Age  EstimatedSalary\n",
       "count  120.0            120.0\n",
       "mean     0.0              0.2\n",
       "std      1.0              1.1\n",
       "min     -1.9             -1.6\n",
       "25%     -0.7             -0.5\n",
       "50%     -0.1              0.1\n",
       "75%      0.7              0.9\n",
       "max      2.1              2.4"
      ]
     },
     "execution_count": 21,
     "metadata": {},
     "output_type": "execute_result"
    }
   ],
   "source": [
    "np.round(x_test_scale.describe(),1)"
   ]
  },
  {
   "cell_type": "code",
   "execution_count": 22,
   "id": "c2148d67",
   "metadata": {},
   "outputs": [
    {
     "data": {
      "image/png": "[encoded data removed]",
      "text/plain": [
       "<Figure size 864x360 with 2 Axes>"
      ]
     },
     "metadata": {
      "needs_background": "light"
     },
     "output_type": "display_data"
    }
   ],
   "source": [
    "fig,(ax1,ax2) = plt.subplots(ncols=2,figsize=(12,5))\n",
    "\n",
    "ax1.scatter(x_train['Age'],x_train['EstimatedSalary'],color='g')\n",
    "ax2.scatter(x_train_scale['Age'],x_train_scale['EstimatedSalary'],color='m')\n",
    "plt.show()"
   ]
  },
  {
   "cell_type": "code",
   "execution_count": 23,
   "id": "9920b154",
   "metadata": {},
   "outputs": [
    {
     "data": {
      "text/plain": [
       "<AxesSubplot:xlabel='Age', ylabel='Density'>"
      ]
     },
     "execution_count": 23,
     "metadata": {},
     "output_type": "execute_result"
    },
    {
     "data": {
      "image/png": "[encoded data removed]",
      "text/plain": [
       "<Figure size 864x360 with 2 Axes>"
      ]
     },
     "metadata": {
      "needs_background": "light"
     },
     "output_type": "display_data"
    }
   ],
   "source": [
    "fig,(ax1,ax2) = plt.subplots(ncols=2,figsize=(12,5))\n",
    "sns.kdeplot(x_train['Age'],ax=ax1)\n",
    "sns.kdeplot(x_train['EstimatedSalary'],ax=ax1)\n",
    "\n",
    "sns.kdeplot(x_train_scale['Age'],ax=ax2)\n",
    "sns.kdeplot(x_train_scale['EstimatedSalary'],ax=ax2)"
   ]
  },
  {
   "cell_type": "code",
   "execution_count": 24,
   "id": "ce98c6ba",
   "metadata": {},
   "outputs": [
    {
     "data": {
      "text/plain": [
       "<AxesSubplot:xlabel='Age', ylabel='Density'>"
      ]
     },
     "execution_count": 24,
     "metadata": {},
     "output_type": "execute_result"
    },
    {
     "data": {
      "image/png": "[encoded data removed]",
      "text/plain": [
       "<Figure size 864x360 with 2 Axes>"
      ]
     },
     "metadata": {
      "needs_background": "light"
     },
     "output_type": "display_data"
    }
   ],
   "source": [
    "fig,(ax1,ax2) = plt.subplots(ncols=2,figsize=(12,5))\n",
    "sns.kdeplot(x_train['Age'],ax=ax1)\n",
    "\n",
    "sns.kdeplot(x_train_scale['Age'],ax=ax2)"
   ]
  },
  {
   "cell_type": "code",
   "execution_count": 25,
   "id": "209db50e",
   "metadata": {},
   "outputs": [
    {
     "data": {
      "image/png": "[encoded data removed]",
      "text/plain": [
       "<Figure size 864x360 with 2 Axes>"
      ]
     },
     "metadata": {
      "needs_background": "light"
     },
     "output_type": "display_data"
    }
   ],
   "source": [
    "fig,(ax1,ax2) = plt.subplots(ncols=2,figsize=(12,5))\n",
    "sns.kdeplot(x_train['EstimatedSalary'],ax=ax1)\n",
    "\n",
    "sns.kdeplot(x_train_scale['EstimatedSalary'],ax=ax2)\n",
    "plt.show()"
   ]
  },
  {
   "cell_type": "markdown",
   "id": "d2e837c5",
   "metadata": {},
   "source": [
    "# Why Scaling is imprtant"
   ]
  },
  {
   "cell_type": "code",
   "execution_count": 26,
   "id": "c4357fc7",
   "metadata": {},
   "outputs": [],
   "source": [
    "from sklearn.linear_model import LogisticRegression"
   ]
  },
  {
   "cell_type": "code",
   "execution_count": 27,
   "id": "9149664d",
   "metadata": {},
   "outputs": [],
   "source": [
    "lr1 = LogisticRegression()\n",
    "lr1.fit(x_train,y_train)\n",
    "\n",
    "lr1_pred = lr1.predict(x_test)"
   ]
  },
  {
   "cell_type": "code",
   "execution_count": 28,
   "id": "882d070f",
   "metadata": {},
   "outputs": [
    {
     "data": {
      "text/plain": [
       "0.6333333333333333"
      ]
     },
     "execution_count": 28,
     "metadata": {},
     "output_type": "execute_result"
    }
   ],
   "source": [
    "from sklearn.metrics import accuracy_score\n",
    "accuracy_score(y_test,lr1_pred)"
   ]
  },
  {
   "cell_type": "code",
   "execution_count": 29,
   "id": "2c13dcb8",
   "metadata": {},
   "outputs": [],
   "source": [
    "lr2 = LogisticRegression()\n",
    "lr2.fit(x_train_scale,y_train)\n",
    "\n",
    "lr2_pred = lr2.predict(x_test_scale)"
   ]
  },
  {
   "cell_type": "code",
   "execution_count": 30,
   "id": "c9b7a054",
   "metadata": {},
   "outputs": [
    {
     "data": {
      "text/plain": [
       "0.875"
      ]
     },
     "execution_count": 30,
     "metadata": {},
     "output_type": "execute_result"
    }
   ],
   "source": [
    "accuracy_score(y_test,lr2_pred)"
   ]
  },
  {
   "cell_type": "code",
   "execution_count": 31,
   "id": "461f6343",
   "metadata": {},
   "outputs": [],
   "source": [
    "from sklearn.tree import DecisionTreeClassifier"
   ]
  },
  {
   "cell_type": "code",
   "execution_count": 32,
   "id": "312435d0",
   "metadata": {},
   "outputs": [],
   "source": [
    "dt1 = DecisionTreeClassifier()\n",
    "dt1.fit(x_train,y_train)\n",
    "\n",
    "dt1_pred = dt1.predict(x_test)"
   ]
  },
  {
   "cell_type": "code",
   "execution_count": 33,
   "id": "52c0ab9a",
   "metadata": {},
   "outputs": [
    {
     "data": {
      "text/plain": [
       "0.8333333333333334"
      ]
     },
     "execution_count": 33,
     "metadata": {},
     "output_type": "execute_result"
    }
   ],
   "source": [
    "accuracy_score(y_test,dt1_pred)"
   ]
  },
  {
   "cell_type": "code",
   "execution_count": 34,
   "id": "0e4f7ac7",
   "metadata": {},
   "outputs": [],
   "source": [
    "dt2 = DecisionTreeClassifier()\n",
    "dt2.fit(x_train_scale,y_train)\n",
    "\n",
    "dt2_pred = dt2.predict(x_test_scale)"
   ]
  },
  {
   "cell_type": "code",
   "execution_count": 35,
   "id": "2996e445",
   "metadata": {},
   "outputs": [
    {
     "data": {
      "text/plain": [
       "0.875"
      ]
     },
     "execution_count": 35,
     "metadata": {},
     "output_type": "execute_result"
    }
   ],
   "source": [
    "accuracy_score(y_test,dt2_pred)"
   ]
  },
  {
   "cell_type": "code",
   "execution_count": null,
   "id": "26f181d4",
   "metadata": {},
   "outputs": [],
   "source": []
  },
  {
   "cell_type": "markdown",
   "id": "2c7057dc",
   "metadata": {},
   "source": [
    "# Effect of Outlier"
   ]
  },
  {
   "cell_type": "code",
   "execution_count": 36,
   "id": "0d1083d6",
   "metadata": {},
   "outputs": [
    {
     "name": "stderr",
     "output_type": "stream",
     "text": [
      "/tmp/ipykernel_5590/2365817244.py:1: FutureWarning: The frame.append method is deprecated and will be removed from pandas in a future version. Use pandas.concat instead.\n",
      "  df = df.append(pd.DataFrame({'Age':[5,90,95],'EstimatedSalary':[1000,250000,350000],'Purchased':[0,1,1]}),ignore_index=True)\n"
     ]
    }
   ],
   "source": [
    "df = df.append(pd.DataFrame({'Age':[5,90,95],'EstimatedSalary':[1000,250000,350000],'Purchased':[0,1,1]}),ignore_index=True)"
   ]
  },
  {
   "cell_type": "code",
   "execution_count": 37,
   "id": "03b36cc1",
   "metadata": {},
   "outputs": [
    {
     "data": {
      "text/plain": [
       "<matplotlib.collections.PathCollection at 0x7fcfd7b1b040>"
      ]
     },
     "execution_count": 37,
     "metadata": {},
     "output_type": "execute_result"
    },
    {
     "data": {
      "image/png": "[encoded data removed]",
      "text/plain": [
       "<Figure size 432x288 with 1 Axes>"
      ]
     },
     "metadata": {
      "needs_background": "light"
     },
     "output_type": "display_data"
    }
   ],
   "source": [
    "plt.scatter(df['Age'], df['EstimatedSalary'])"
   ]
  },
  {
   "cell_type": "code",
   "execution_count": 38,
   "id": "006a6aa6",
   "metadata": {},
   "outputs": [
    {
     "data": {
      "text/plain": [
       "((282, 3), (121, 3))"
      ]
     },
     "execution_count": 38,
     "metadata": {},
     "output_type": "execute_result"
    }
   ],
   "source": [
    "from sklearn.model_selection import train_test_split\n",
    "x_train, x_test, y_train, y_test = train_test_split(df.drop(['Purchased','Gender'], axis=1),\n",
    "                                                    df['Purchased'],\n",
    "                                                    test_size=0.3,\n",
    "                                                    random_state=0)\n",
    "\n",
    "x_train.shape, x_test.shape"
   ]
  },
  {
   "cell_type": "code",
   "execution_count": 39,
   "id": "4597f2d8",
   "metadata": {},
   "outputs": [],
   "source": [
    "from sklearn.preprocessing import StandardScaler\n",
    "\n",
    "scaler = StandardScaler()\n",
    "\n",
    "scaler.fit(x_train)\n",
    "\n",
    "\n",
    "x_train_scaled = scaler.transform(x_train)\n",
    "x_test_scaled = scaler.transform(x_test)"
   ]
  },
  {
   "cell_type": "code",
   "execution_count": 40,
   "id": "f7c41736",
   "metadata": {},
   "outputs": [],
   "source": [
    "x_train_scaled = pd.DataFrame(x_train_scaled, columns=x_train.columns)\n",
    "x_test_scaled = pd.DataFrame(x_test_scaled, columns=x_test.columns)"
   ]
  },
  {
   "cell_type": "code",
   "execution_count": 41,
   "id": "1cd98235",
   "metadata": {},
   "outputs": [
    {
     "data": {
      "text/plain": [
       "<AxesSubplot:xlabel='Age', ylabel='Density'>"
      ]
     },
     "execution_count": 41,
     "metadata": {},
     "output_type": "execute_result"
    },
    {
     "data": {
      "image/png": "[encoded data removed]",
      "text/plain": [
       "<Figure size 864x360 with 2 Axes>"
      ]
     },
     "metadata": {
      "needs_background": "light"
     },
     "output_type": "display_data"
    }
   ],
   "source": [
    "fig,(ax1,ax2) = plt.subplots(ncols=2,figsize=(12,5))\n",
    "sns.kdeplot(x_train['Age'],ax=ax1)\n",
    "sns.kdeplot(x_train['EstimatedSalary'],ax=ax1)\n",
    "\n",
    "sns.kdeplot(x_train_scaled['Age'],ax=ax2)\n",
    "sns.kdeplot(x_test_scaled['EstimatedSalary'],ax=ax2)"
   ]
  },
  {
   "cell_type": "markdown",
   "id": "f77efd26",
   "metadata": {},
   "source": [
    "# When to use Standardization?"
   ]
  },
  {
   "cell_type": "markdown",
   "id": "2996e673",
   "metadata": {},
   "source": [
    "### 1 . K-Means\n",
    "### 2. K-means neighbours\n",
    "### 3. PCA\n",
    "### 4. GD"
   ]
  },
  {
   "cell_type": "code",
   "execution_count": null,
   "id": "e8310726",
   "metadata": {},
   "outputs": [],
   "source": []
  }
 ],
 "metadata": {
  "kernelspec": {
   "display_name": "Python 3 (ipykernel)",
   "language": "python",
   "name": "python3"
  },
  "language_info": {
   "codemirror_mode": {
    "name": "ipython",
    "version": 3
   },
   "file_extension": ".py",
   "mimetype": "text/x-python",
   "name": "python",
   "nbconvert_exporter": "python",
   "pygments_lexer": "ipython3",
   "version": "3.8.10"
  }
 },
 "nbformat": 4,
 "nbformat_minor": 5
}
