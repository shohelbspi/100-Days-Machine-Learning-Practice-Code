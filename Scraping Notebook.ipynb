{
 "cells": [
  {
   "cell_type": "code",
   "execution_count": 1,
   "id": "45cba8f3",
   "metadata": {},
   "outputs": [],
   "source": [
    "import numpy as np\n",
    "import pandas as pd\n",
    "import requests\n",
    "from bs4 import BeautifulSoup"
   ]
  },
  {
   "cell_type": "code",
   "execution_count": 4,
   "id": "40dc852a",
   "metadata": {},
   "outputs": [],
   "source": [
    "webpage = requests.get('https://www.startech.com.bd/laptop-notebook/laptop?page=2').text"
   ]
  },
  {
   "cell_type": "code",
   "execution_count": 3,
   "id": "c57cc6bc",
   "metadata": {},
   "outputs": [
    {
     "data": {
      "text/plain": [
       "<Response [200]>"
      ]
     },
     "execution_count": 3,
     "metadata": {},
     "output_type": "execute_result"
    }
   ],
   "source": [
    "webpage"
   ]
  },
  {
   "cell_type": "code",
   "execution_count": 5,
   "id": "e45f133d",
   "metadata": {},
   "outputs": [],
   "source": [
    "soup = BeautifulSoup(webpage,'lxml')"
   ]
  },
  {
   "cell_type": "code",
   "execution_count": 9,
   "id": "82c574a3",
   "metadata": {},
   "outputs": [
    {
     "data": {
      "text/plain": [
       "' Acer Extensa 15 EX215-54-37AH Core i3 11th Gen 15.6\" FHD Laptop'"
      ]
     },
     "execution_count": 9,
     "metadata": {},
     "output_type": "execute_result"
    }
   ],
   "source": [
    "soup.find_all('h4')[0].text"
   ]
  },
  {
   "cell_type": "code",
   "execution_count": 11,
   "id": "8eed1a17",
   "metadata": {},
   "outputs": [
    {
     "name": "stdout",
     "output_type": "stream",
     "text": [
      " Acer Extensa 15 EX215-54-37AH Core i3 11th Gen 15.6\" FHD Laptop\n",
      " Asus VivoBook 15 R565FA Core i3 10th Gen 15.6\" HD Laptop\n",
      " Acer Extensa 15 EX215-54-37AH Core i3 11th Gen 250GB SSD 15.6\" FHD Laptop\n",
      " Walton Passion BX310U Core i3 10th Gen 15.6\" FHD Laptop\n",
      " Asus VivoBook 15 X515FA Core i3 10th Gen 15.6\" FHD Laptop\n",
      " Asus VivoBook 14 X415FA Core i3 10th Gen 14\" FHD Laptop\n",
      " Dell Inspiron 15 3511 Core i3 11th Gen 15.6\" FHD Laptop\n",
      " Dell Vostro 14 3400 Core i3 11th Gen 14\" HD Laptop with 03 Years Warranty\n",
      " Lenovo V14 Core i3 11th Gen 14\" Full HD Laptop\n",
      " Asus VivoBook 15 X515FA Core i3 10th Gen 15.6\" FHD Laptop with Fingerprint\n",
      " ASUS ExpertBook P1 P1512CEA Core i3 11th Gen 15.6\" FHD laptop\n",
      " Walton Passion BP5800 Core i5 8th Gen 15.6\" HD Laptop\n",
      " Dell Inspiron 15 3511 Core i3 11th Gen 256GB SSD 15.6\" FHD Laptop\n",
      " Lenovo IdeaPad Slim 3i Core i3 10th Gen 15.6\" FHD Laptop with 3 years Warranty\n",
      " ASUS VivoBook 15 X515EA Core i3 11th Gen 15.6\" FHD Laptop\n",
      " Acer TravelMate TMP214-53 Core i3 11th Gen 14\" FHD Laptop\n",
      " Lenovo IdeaPad Slim 3i 11th Gen Core i3 256GB SSD 15.6\" Full HD Laptop with Windows 11\n",
      " Acer TravelMate TMP215-53 Core i3 11th Gen 15.6\" FHD Laptop\n",
      " Toshiba Dynabook Satellite Pro C40-G-13E Core i5 10th Gen 14\" HD Laptop\n",
      " HP 15s-du3611TU Core i3 11th Gen 15.6\" FHD Laptop\n",
      "Support\n",
      "About Us\n",
      "Stay Connected\n"
     ]
    }
   ],
   "source": [
    "for item in soup.find_all('h4'):\n",
    "    print(item.text)"
   ]
  },
  {
   "cell_type": "code",
   "execution_count": 19,
   "id": "8fcd75eb",
   "metadata": {},
   "outputs": [
    {
     "name": "stdout",
     "output_type": "stream",
     "text": [
      "Processor: Intel Core i3-1115G4 (6M Cache, 3.00 GHz up to 4.10 GHz)\r\n",
      "Memory: 4 GB DDR4 SDRAM\r\n",
      "Storage: 1TB 2.5-inch 5400RPM HDD\r\n",
      "Display: 15.6\" FHD (1920 x 1080) Display\n",
      "Processor: Intel Core i3-10110U (4M Cache, 2.10 GHz up to 4.10 GHz)\r\n",
      "RAM: 4GB 3200MHz RAM, Storage: 1TB 5400 RPM SATA HDD\r\n",
      "Display: 15.6\" HD (1366x768)\r\n",
      "Features: Chiclet Keyboard, Type-C, Cortana support\n",
      "Processor: Intel Core i3-1115G4 (6M Cache, 3.00 GHz up to 4.10 GHz)\r\n",
      "RAM: 8GB DDR4, Storage: 1TB HDD, 250GB SSD\r\n",
      "Display: 15.6\" FHD (1920 x 1080) Display\r\n",
      "Features: 2 x Stereo Speaker\n",
      "Processor: Intel Core i3 10110U (4MB Cache, 2.1Ghz up to 4.1Ghz)\r\n",
      "RAM: 8GB 2666MHz, Storage: 512GB SATAIII M.2 2280 SSD\r\n",
      "Display: 15.6\" FHD (1920 x 1080)\r\n",
      "Features: Built-in array microphone, Built-in touchpad\n",
      "Processor: Intel Core i3-10110U (4M Cache, 2.10 GHz up to 4.10 GHz)\r\n",
      "Memory: 4GB DDR4 3200MHz RAM\r\n",
      "Storage: 1TB 5400 RPM SATA HDD\r\n",
      "Display: 15.6\" FHD (1920 x 1080) LED\n",
      "Processor: Intel Core i3 10110U (4MB Cache, 2.1Ghz up to 4.1Ghz)\r\n",
      "Memory: 4GB DDR4 RAM\r\n",
      "Storage: 1TB SATA HDD\r\n",
      "Display: 14.0\" FHD (1920X1080)\n",
      "Processor: Intel Core i3-1115G4 (6M Cache, 3.00 GHz up to 4.10 GHz)\r\n",
      "RAM: 4GB DDR4, Storage: 1TB SATA HDD\r\n",
      "Display: 15.6-inch FHD (1920 x 1080)\r\n",
      "Features: Stereo speakers, 720p at 30 fps HD camera\n",
      "Processor: Intel Core i3-1115G4 (6MB Cache, 3.0 GHz up to 4.10 GHz)\r\n",
      "RAM: 4GB DDR4, Storage: 1TB SATA HDD\r\n",
      "Display: 14.0-inch HD (1366 x 768) \r\n",
      "Features: 2 W Dual stereo speakers, HD Webcam\n",
      "Processor: Intel Core i3-1115G4 (6M Cache, 3.00 GHz up to 4.10 GHz)\r\n",
      "RAM: 4GB 3200Mhz, Storage: 1TB HDD\r\n",
      "Display: 14\" FHD (1920 x 1080)\r\n",
      "Features: Type-C\n",
      "Processor: Intel Core i3-10110U (4M Cache, 2.10 GHz up to 4.10 GHz)\r\n",
      "Memory: 4GB DDR4 RAM\r\n",
      "Storage: 1TB 5400 RPM SATA HDD\r\n",
      "Display: 15.6\" FHD (1920 x 1080)\n",
      "Processor: Intel Core i3-1115G4 (6M Cache, 3.00 GHz up to 4.10 GHz)\r\n",
      "RAM: 4GB 3200MHz, Storage: 1TB HDD\r\n",
      "Display: 15.6\" FHD (1920 x 1080)\r\n",
      "Features: Illuminated Chicklet Keyboard\n",
      "Processor: Intel Core i5-8250U (6MB Cache, 1.60GHz up to 3.40 GHz)\r\n",
      "RAM: 8GB DDR4, Storage: 1TB HDD\r\n",
      "Display: 15.6\" HD (1366x768)\r\n",
      "Features: HD Audio, Bengali font (Bangladesh Layout), Type-C\n",
      "Processor: Intel Core i3-1115G4 (6M Cache, 3.00 GHz up to 4.10 GHz)\r\n",
      "RAM: 4GB DDR4, Storage: 256GB SSD\r\n",
      "Display: 15.6-inch FHD (1920 x 1080)\r\n",
      "Features: Stereo speakers, 720p at 30 fps HD camera\n",
      "Processor: Intel Core i3-1005G1 (4M Cache,1.20 GHz up to 3.40 GHz)\r\n",
      "RAM: 4GB DDR4 2666Mhz, Storage: 256GB SSD\r\n",
      "Display: 15.6\" FHD (1920x1080)\r\n",
      "Features: 3 years Warranty\n",
      "Processor: Intel Core i3-1115G4 (6M Cache, 3.00 GHz up to 4.10 GHz)\r\n",
      "RAM: 4GB DDR4 , Storage: 1TB HDD\r\n",
      "Display: 15.6\" FHD (1920X1080)\r\n",
      "Features: Built-in speaker, Type-C\n",
      "Processor: Intel Core i3-1115G4 (6M Cache, 3.00 GHz up to 4.10 GHz)\r\n",
      "RAM: 4GB DDR4, Storage: 1TB HDD\r\n",
      "Display: 14.0\" IPS Full HD\r\n",
      "Features: Fingerprint, Type-C\n",
      "Processor: Intel Core  i3-1115G4 (6MB cache, 3.0 GHz upto 4.1 GHz)\r\n",
      "RAM & SSD: 4GB 3200Mhz RAM + 256GB SSD\r\n",
      "Display: 15.6\" FHD (1920Ã—1080)\r\n",
      "Operating System: Windows 11 Home\n",
      "Processor: Intel Core i3-1115G4 (6M Cache, 3.00 GHz up to 4.10 GHz)\r\n",
      "RAM: 4GB 2400MHz, Storage: 1TB HDD\r\n",
      "Display: 15.6\" IPS Full HD\r\n",
      "Features: Finger Print Reader\n",
      "Processor: Intel Core i5-10210U (6M Cache, 1.60GHz up to 4.20 GHz)\r\n",
      "RAM: 8GB 3200MHz. Storage: 256GB SSD\r\n",
      "Display: 14\" HD (1,366 x 768)\r\n",
      "Features: Frameless black tile keyboard\n",
      "Processor: Intel Core i3-1125G4 (8M Cache, 2.00 GHz up to 3.70 GHz, 4 cores, 8 threads)\r\n",
      "RAM: 4GB DDR4 2666 MHz, Storage: 1TB HDD\r\n",
      "Display: 15.6\" FHD (1920 x 1080)\r\n",
      "Features: Full-size, natural silver keyboard with numeric keypad\n"
     ]
    }
   ],
   "source": [
    "for item in soup.find_all('div', class_='short-description'):\n",
    "    for test in item.find_all('li'):\n",
    "        print(test.text)"
   ]
  },
  {
   "cell_type": "code",
   "execution_count": 20,
   "id": "2df6a4e9",
   "metadata": {},
   "outputs": [],
   "source": [
    "webpage = requests.get('https://www.startech.com.bd/laptop-notebook/laptop?page=2').text\n",
    "soup = BeautifulSoup(webpage,'lxml')"
   ]
  },
  {
   "cell_type": "code",
   "execution_count": 21,
   "id": "0b65b8d0",
   "metadata": {},
   "outputs": [],
   "source": [
    "laptop = soup.find_all('div', class_='p-item')"
   ]
  },
  {
   "cell_type": "code",
   "execution_count": 22,
   "id": "ddec4bf0",
   "metadata": {},
   "outputs": [
    {
     "data": {
      "text/plain": [
       "20"
      ]
     },
     "execution_count": 22,
     "metadata": {},
     "output_type": "execute_result"
    }
   ],
   "source": [
    "len(laptop)"
   ]
  },
  {
   "cell_type": "code",
   "execution_count": 34,
   "id": "0cd2d46d",
   "metadata": {},
   "outputs": [],
   "source": [
    "title = []\n",
    "price = []\n",
    "\n",
    "for item in laptop:\n",
    "    title.append(item.find('h4').text)\n",
    "    price.append(item.find('div', class_='p-item-price').text.strip())\n",
    "    "
   ]
  },
  {
   "cell_type": "code",
   "execution_count": 35,
   "id": "8f9487d9",
   "metadata": {},
   "outputs": [
    {
     "data": {
      "text/plain": [
       "[' Acer Extensa 15 EX215-54-37AH Core i3 11th Gen 15.6\" FHD Laptop',\n",
       " ' Asus VivoBook 15 R565FA Core i3 10th Gen 15.6\" HD Laptop',\n",
       " ' Acer Extensa 15 EX215-54-37AH Core i3 11th Gen 250GB SSD 15.6\" FHD Laptop',\n",
       " ' Walton Passion BX310U Core i3 10th Gen 15.6\" FHD Laptop',\n",
       " ' Asus VivoBook 15 X515FA Core i3 10th Gen 15.6\" FHD Laptop',\n",
       " ' Asus VivoBook 14 X415FA Core i3 10th Gen 14\" FHD Laptop',\n",
       " ' Dell Inspiron 15 3511 Core i3 11th Gen 15.6\" FHD Laptop',\n",
       " ' Dell Vostro 14 3400 Core i3 11th Gen 14\" HD Laptop with 03 Years Warranty',\n",
       " ' Lenovo V14 Core i3 11th Gen 14\" Full HD Laptop',\n",
       " ' Asus VivoBook 15 X515FA Core i3 10th Gen 15.6\" FHD Laptop with Fingerprint',\n",
       " ' ASUS ExpertBook P1 P1512CEA Core i3 11th Gen 15.6\" FHD laptop',\n",
       " ' Walton Passion BP5800 Core i5 8th Gen 15.6\" HD Laptop',\n",
       " ' Dell Inspiron 15 3511 Core i3 11th Gen 256GB SSD 15.6\" FHD Laptop',\n",
       " ' Lenovo IdeaPad Slim 3i Core i3 10th Gen 15.6\" FHD Laptop with 3 years Warranty',\n",
       " ' ASUS VivoBook 15 X515EA Core i3 11th Gen 15.6\" FHD Laptop',\n",
       " ' Acer TravelMate TMP214-53 Core i3 11th Gen 14\" FHD Laptop',\n",
       " ' Lenovo IdeaPad Slim 3i 11th Gen Core i3 256GB SSD 15.6\" Full HD Laptop with Windows 11',\n",
       " ' Acer TravelMate TMP215-53 Core i3 11th Gen 15.6\" FHD Laptop',\n",
       " ' Toshiba Dynabook Satellite Pro C40-G-13E Core i5 10th Gen 14\" HD Laptop',\n",
       " ' HP 15s-du3611TU Core i3 11th Gen 15.6\" FHD Laptop']"
      ]
     },
     "execution_count": 35,
     "metadata": {},
     "output_type": "execute_result"
    }
   ],
   "source": [
    "title"
   ]
  },
  {
   "cell_type": "code",
   "execution_count": 36,
   "id": "bb4ed250",
   "metadata": {},
   "outputs": [
    {
     "data": {
      "text/plain": [
       "['47,000৳',\n",
       " '48,500৳',\n",
       " '50,500৳',\n",
       " '49,850৳',\n",
       " '49,500৳',\n",
       " '49,500৳',\n",
       " '51,000৳',\n",
       " '51,000৳',\n",
       " '52,500৳',\n",
       " '52,000৳',\n",
       " '55,500৳',\n",
       " '52,550৳',\n",
       " '53,500৳',\n",
       " '53,500৳',\n",
       " '53,500৳',\n",
       " '55,000৳',\n",
       " '54,000৳',\n",
       " '55,000৳',\n",
       " '55,000৳',\n",
       " '55,500৳']"
      ]
     },
     "execution_count": 36,
     "metadata": {},
     "output_type": "execute_result"
    }
   ],
   "source": [
    "price"
   ]
  },
  {
   "cell_type": "code",
   "execution_count": 43,
   "id": "a4b405e5",
   "metadata": {},
   "outputs": [],
   "source": [
    "df = pd.DataFrame({\n",
    "    'Title':title,\n",
    "    'Price':price\n",
    "})"
   ]
  },
  {
   "cell_type": "code",
   "execution_count": 44,
   "id": "d49270d6",
   "metadata": {},
   "outputs": [
    {
     "data": {
      "text/html": [
       "<div>\n",
       "<style scoped>\n",
       "    .dataframe tbody tr th:only-of-type {\n",
       "        vertical-align: middle;\n",
       "    }\n",
       "\n",
       "    .dataframe tbody tr th {\n",
       "        vertical-align: top;\n",
       "    }\n",
       "\n",
       "    .dataframe thead th {\n",
       "        text-align: right;\n",
       "    }\n",
       "</style>\n",
       "<table border=\"1\" class=\"dataframe\">\n",
       "  <thead>\n",
       "    <tr style=\"text-align: right;\">\n",
       "      <th></th>\n",
       "      <th>Title</th>\n",
       "      <th>Price</th>\n",
       "    </tr>\n",
       "  </thead>\n",
       "  <tbody>\n",
       "    <tr>\n",
       "      <th>0</th>\n",
       "      <td>Acer Extensa 15 EX215-54-37AH Core i3 11th Ge...</td>\n",
       "      <td>47,000৳</td>\n",
       "    </tr>\n",
       "    <tr>\n",
       "      <th>1</th>\n",
       "      <td>Asus VivoBook 15 R565FA Core i3 10th Gen 15.6...</td>\n",
       "      <td>48,500৳</td>\n",
       "    </tr>\n",
       "    <tr>\n",
       "      <th>2</th>\n",
       "      <td>Acer Extensa 15 EX215-54-37AH Core i3 11th Ge...</td>\n",
       "      <td>50,500৳</td>\n",
       "    </tr>\n",
       "    <tr>\n",
       "      <th>3</th>\n",
       "      <td>Walton Passion BX310U Core i3 10th Gen 15.6\" ...</td>\n",
       "      <td>49,850৳</td>\n",
       "    </tr>\n",
       "    <tr>\n",
       "      <th>4</th>\n",
       "      <td>Asus VivoBook 15 X515FA Core i3 10th Gen 15.6...</td>\n",
       "      <td>49,500৳</td>\n",
       "    </tr>\n",
       "    <tr>\n",
       "      <th>5</th>\n",
       "      <td>Asus VivoBook 14 X415FA Core i3 10th Gen 14\" ...</td>\n",
       "      <td>49,500৳</td>\n",
       "    </tr>\n",
       "    <tr>\n",
       "      <th>6</th>\n",
       "      <td>Dell Inspiron 15 3511 Core i3 11th Gen 15.6\" ...</td>\n",
       "      <td>51,000৳</td>\n",
       "    </tr>\n",
       "    <tr>\n",
       "      <th>7</th>\n",
       "      <td>Dell Vostro 14 3400 Core i3 11th Gen 14\" HD L...</td>\n",
       "      <td>51,000৳</td>\n",
       "    </tr>\n",
       "    <tr>\n",
       "      <th>8</th>\n",
       "      <td>Lenovo V14 Core i3 11th Gen 14\" Full HD Laptop</td>\n",
       "      <td>52,500৳</td>\n",
       "    </tr>\n",
       "    <tr>\n",
       "      <th>9</th>\n",
       "      <td>Asus VivoBook 15 X515FA Core i3 10th Gen 15.6...</td>\n",
       "      <td>52,000৳</td>\n",
       "    </tr>\n",
       "    <tr>\n",
       "      <th>10</th>\n",
       "      <td>ASUS ExpertBook P1 P1512CEA Core i3 11th Gen ...</td>\n",
       "      <td>55,500৳</td>\n",
       "    </tr>\n",
       "    <tr>\n",
       "      <th>11</th>\n",
       "      <td>Walton Passion BP5800 Core i5 8th Gen 15.6\" H...</td>\n",
       "      <td>52,550৳</td>\n",
       "    </tr>\n",
       "    <tr>\n",
       "      <th>12</th>\n",
       "      <td>Dell Inspiron 15 3511 Core i3 11th Gen 256GB ...</td>\n",
       "      <td>53,500৳</td>\n",
       "    </tr>\n",
       "    <tr>\n",
       "      <th>13</th>\n",
       "      <td>Lenovo IdeaPad Slim 3i Core i3 10th Gen 15.6\"...</td>\n",
       "      <td>53,500৳</td>\n",
       "    </tr>\n",
       "    <tr>\n",
       "      <th>14</th>\n",
       "      <td>ASUS VivoBook 15 X515EA Core i3 11th Gen 15.6...</td>\n",
       "      <td>53,500৳</td>\n",
       "    </tr>\n",
       "    <tr>\n",
       "      <th>15</th>\n",
       "      <td>Acer TravelMate TMP214-53 Core i3 11th Gen 14...</td>\n",
       "      <td>55,000৳</td>\n",
       "    </tr>\n",
       "    <tr>\n",
       "      <th>16</th>\n",
       "      <td>Lenovo IdeaPad Slim 3i 11th Gen Core i3 256GB...</td>\n",
       "      <td>54,000৳</td>\n",
       "    </tr>\n",
       "    <tr>\n",
       "      <th>17</th>\n",
       "      <td>Acer TravelMate TMP215-53 Core i3 11th Gen 15...</td>\n",
       "      <td>55,000৳</td>\n",
       "    </tr>\n",
       "    <tr>\n",
       "      <th>18</th>\n",
       "      <td>Toshiba Dynabook Satellite Pro C40-G-13E Core...</td>\n",
       "      <td>55,000৳</td>\n",
       "    </tr>\n",
       "    <tr>\n",
       "      <th>19</th>\n",
       "      <td>HP 15s-du3611TU Core i3 11th Gen 15.6\" FHD La...</td>\n",
       "      <td>55,500৳</td>\n",
       "    </tr>\n",
       "  </tbody>\n",
       "</table>\n",
       "</div>"
      ],
      "text/plain": [
       "                                                Title    Price\n",
       "0    Acer Extensa 15 EX215-54-37AH Core i3 11th Ge...  47,000৳\n",
       "1    Asus VivoBook 15 R565FA Core i3 10th Gen 15.6...  48,500৳\n",
       "2    Acer Extensa 15 EX215-54-37AH Core i3 11th Ge...  50,500৳\n",
       "3    Walton Passion BX310U Core i3 10th Gen 15.6\" ...  49,850৳\n",
       "4    Asus VivoBook 15 X515FA Core i3 10th Gen 15.6...  49,500৳\n",
       "5    Asus VivoBook 14 X415FA Core i3 10th Gen 14\" ...  49,500৳\n",
       "6    Dell Inspiron 15 3511 Core i3 11th Gen 15.6\" ...  51,000৳\n",
       "7    Dell Vostro 14 3400 Core i3 11th Gen 14\" HD L...  51,000৳\n",
       "8      Lenovo V14 Core i3 11th Gen 14\" Full HD Laptop  52,500৳\n",
       "9    Asus VivoBook 15 X515FA Core i3 10th Gen 15.6...  52,000৳\n",
       "10   ASUS ExpertBook P1 P1512CEA Core i3 11th Gen ...  55,500৳\n",
       "11   Walton Passion BP5800 Core i5 8th Gen 15.6\" H...  52,550৳\n",
       "12   Dell Inspiron 15 3511 Core i3 11th Gen 256GB ...  53,500৳\n",
       "13   Lenovo IdeaPad Slim 3i Core i3 10th Gen 15.6\"...  53,500৳\n",
       "14   ASUS VivoBook 15 X515EA Core i3 11th Gen 15.6...  53,500৳\n",
       "15   Acer TravelMate TMP214-53 Core i3 11th Gen 14...  55,000৳\n",
       "16   Lenovo IdeaPad Slim 3i 11th Gen Core i3 256GB...  54,000৳\n",
       "17   Acer TravelMate TMP215-53 Core i3 11th Gen 15...  55,000৳\n",
       "18   Toshiba Dynabook Satellite Pro C40-G-13E Core...  55,000৳\n",
       "19   HP 15s-du3611TU Core i3 11th Gen 15.6\" FHD La...  55,500৳"
      ]
     },
     "execution_count": 44,
     "metadata": {},
     "output_type": "execute_result"
    }
   ],
   "source": [
    "df"
   ]
  },
  {
   "cell_type": "code",
   "execution_count": 48,
   "id": "70902edc",
   "metadata": {},
   "outputs": [
    {
     "data": {
      "text/plain": [
       "0      Acer Extensa 15 EX215-54-37AH Core i3 11th Ge...\n",
       "1      Asus VivoBook 15 R565FA Core i3 10th Gen 15.6...\n",
       "2      Acer Extensa 15 EX215-54-37AH Core i3 11th Ge...\n",
       "3      Walton Passion BX310U Core i3 10th Gen 15.6\" ...\n",
       "4      Asus VivoBook 15 X515FA Core i3 10th Gen 15.6...\n",
       "5      Asus VivoBook 14 X415FA Core i3 10th Gen 14\" ...\n",
       "6      Dell Inspiron 15 3511 Core i3 11th Gen 15.6\" ...\n",
       "7      Dell Vostro 14 3400 Core i3 11th Gen 14\" HD L...\n",
       "8        Lenovo V14 Core i3 11th Gen 14\" Full HD Laptop\n",
       "9      Asus VivoBook 15 X515FA Core i3 10th Gen 15.6...\n",
       "10     ASUS ExpertBook P1 P1512CEA Core i3 11th Gen ...\n",
       "11     Walton Passion BP5800 Core i5 8th Gen 15.6\" H...\n",
       "12     Dell Inspiron 15 3511 Core i3 11th Gen 256GB ...\n",
       "13     Lenovo IdeaPad Slim 3i Core i3 10th Gen 15.6\"...\n",
       "14     ASUS VivoBook 15 X515EA Core i3 11th Gen 15.6...\n",
       "15     Acer TravelMate TMP214-53 Core i3 11th Gen 14...\n",
       "16     Lenovo IdeaPad Slim 3i 11th Gen Core i3 256GB...\n",
       "17     Acer TravelMate TMP215-53 Core i3 11th Gen 15...\n",
       "18     Toshiba Dynabook Satellite Pro C40-G-13E Core...\n",
       "19     HP 15s-du3611TU Core i3 11th Gen 15.6\" FHD La...\n",
       "Name: Title, dtype: object"
      ]
     },
     "execution_count": 48,
     "metadata": {},
     "output_type": "execute_result"
    }
   ],
   "source": [
    "df['Title']"
   ]
  },
  {
   "cell_type": "code",
   "execution_count": 49,
   "id": "5a5d4a4c",
   "metadata": {},
   "outputs": [
    {
     "data": {
      "text/html": [
       "<div>\n",
       "<style scoped>\n",
       "    .dataframe tbody tr th:only-of-type {\n",
       "        vertical-align: middle;\n",
       "    }\n",
       "\n",
       "    .dataframe tbody tr th {\n",
       "        vertical-align: top;\n",
       "    }\n",
       "\n",
       "    .dataframe thead th {\n",
       "        text-align: right;\n",
       "    }\n",
       "</style>\n",
       "<table border=\"1\" class=\"dataframe\">\n",
       "  <thead>\n",
       "    <tr style=\"text-align: right;\">\n",
       "      <th></th>\n",
       "      <th>Title</th>\n",
       "      <th>Price</th>\n",
       "    </tr>\n",
       "  </thead>\n",
       "  <tbody>\n",
       "    <tr>\n",
       "      <th>0</th>\n",
       "      <td>Acer Extensa 15 EX215-54-37AH Core i3 11th Ge...</td>\n",
       "      <td>47,000৳</td>\n",
       "    </tr>\n",
       "    <tr>\n",
       "      <th>1</th>\n",
       "      <td>Asus VivoBook 15 R565FA Core i3 10th Gen 15.6...</td>\n",
       "      <td>48,500৳</td>\n",
       "    </tr>\n",
       "    <tr>\n",
       "      <th>2</th>\n",
       "      <td>Acer Extensa 15 EX215-54-37AH Core i3 11th Ge...</td>\n",
       "      <td>50,500৳</td>\n",
       "    </tr>\n",
       "    <tr>\n",
       "      <th>3</th>\n",
       "      <td>Walton Passion BX310U Core i3 10th Gen 15.6\" ...</td>\n",
       "      <td>49,850৳</td>\n",
       "    </tr>\n",
       "    <tr>\n",
       "      <th>4</th>\n",
       "      <td>Asus VivoBook 15 X515FA Core i3 10th Gen 15.6...</td>\n",
       "      <td>49,500৳</td>\n",
       "    </tr>\n",
       "    <tr>\n",
       "      <th>5</th>\n",
       "      <td>Asus VivoBook 14 X415FA Core i3 10th Gen 14\" ...</td>\n",
       "      <td>49,500৳</td>\n",
       "    </tr>\n",
       "    <tr>\n",
       "      <th>6</th>\n",
       "      <td>Dell Inspiron 15 3511 Core i3 11th Gen 15.6\" ...</td>\n",
       "      <td>51,000৳</td>\n",
       "    </tr>\n",
       "    <tr>\n",
       "      <th>7</th>\n",
       "      <td>Dell Vostro 14 3400 Core i3 11th Gen 14\" HD L...</td>\n",
       "      <td>51,000৳</td>\n",
       "    </tr>\n",
       "    <tr>\n",
       "      <th>8</th>\n",
       "      <td>Lenovo V14 Core i3 11th Gen 14\" Full HD Laptop</td>\n",
       "      <td>52,500৳</td>\n",
       "    </tr>\n",
       "    <tr>\n",
       "      <th>9</th>\n",
       "      <td>Asus VivoBook 15 X515FA Core i3 10th Gen 15.6...</td>\n",
       "      <td>52,000৳</td>\n",
       "    </tr>\n",
       "    <tr>\n",
       "      <th>10</th>\n",
       "      <td>ASUS ExpertBook P1 P1512CEA Core i3 11th Gen ...</td>\n",
       "      <td>55,500৳</td>\n",
       "    </tr>\n",
       "    <tr>\n",
       "      <th>11</th>\n",
       "      <td>Walton Passion BP5800 Core i5 8th Gen 15.6\" H...</td>\n",
       "      <td>52,550৳</td>\n",
       "    </tr>\n",
       "    <tr>\n",
       "      <th>12</th>\n",
       "      <td>Dell Inspiron 15 3511 Core i3 11th Gen 256GB ...</td>\n",
       "      <td>53,500৳</td>\n",
       "    </tr>\n",
       "    <tr>\n",
       "      <th>13</th>\n",
       "      <td>Lenovo IdeaPad Slim 3i Core i3 10th Gen 15.6\"...</td>\n",
       "      <td>53,500৳</td>\n",
       "    </tr>\n",
       "    <tr>\n",
       "      <th>14</th>\n",
       "      <td>ASUS VivoBook 15 X515EA Core i3 11th Gen 15.6...</td>\n",
       "      <td>53,500৳</td>\n",
       "    </tr>\n",
       "    <tr>\n",
       "      <th>15</th>\n",
       "      <td>Acer TravelMate TMP214-53 Core i3 11th Gen 14...</td>\n",
       "      <td>55,000৳</td>\n",
       "    </tr>\n",
       "    <tr>\n",
       "      <th>16</th>\n",
       "      <td>Lenovo IdeaPad Slim 3i 11th Gen Core i3 256GB...</td>\n",
       "      <td>54,000৳</td>\n",
       "    </tr>\n",
       "    <tr>\n",
       "      <th>17</th>\n",
       "      <td>Acer TravelMate TMP215-53 Core i3 11th Gen 15...</td>\n",
       "      <td>55,000৳</td>\n",
       "    </tr>\n",
       "    <tr>\n",
       "      <th>18</th>\n",
       "      <td>Toshiba Dynabook Satellite Pro C40-G-13E Core...</td>\n",
       "      <td>55,000৳</td>\n",
       "    </tr>\n",
       "    <tr>\n",
       "      <th>19</th>\n",
       "      <td>HP 15s-du3611TU Core i3 11th Gen 15.6\" FHD La...</td>\n",
       "      <td>55,500৳</td>\n",
       "    </tr>\n",
       "  </tbody>\n",
       "</table>\n",
       "</div>"
      ],
      "text/plain": [
       "                                                Title    Price\n",
       "0    Acer Extensa 15 EX215-54-37AH Core i3 11th Ge...  47,000৳\n",
       "1    Asus VivoBook 15 R565FA Core i3 10th Gen 15.6...  48,500৳\n",
       "2    Acer Extensa 15 EX215-54-37AH Core i3 11th Ge...  50,500৳\n",
       "3    Walton Passion BX310U Core i3 10th Gen 15.6\" ...  49,850৳\n",
       "4    Asus VivoBook 15 X515FA Core i3 10th Gen 15.6...  49,500৳\n",
       "5    Asus VivoBook 14 X415FA Core i3 10th Gen 14\" ...  49,500৳\n",
       "6    Dell Inspiron 15 3511 Core i3 11th Gen 15.6\" ...  51,000৳\n",
       "7    Dell Vostro 14 3400 Core i3 11th Gen 14\" HD L...  51,000৳\n",
       "8      Lenovo V14 Core i3 11th Gen 14\" Full HD Laptop  52,500৳\n",
       "9    Asus VivoBook 15 X515FA Core i3 10th Gen 15.6...  52,000৳\n",
       "10   ASUS ExpertBook P1 P1512CEA Core i3 11th Gen ...  55,500৳\n",
       "11   Walton Passion BP5800 Core i5 8th Gen 15.6\" H...  52,550৳\n",
       "12   Dell Inspiron 15 3511 Core i3 11th Gen 256GB ...  53,500৳\n",
       "13   Lenovo IdeaPad Slim 3i Core i3 10th Gen 15.6\"...  53,500৳\n",
       "14   ASUS VivoBook 15 X515EA Core i3 11th Gen 15.6...  53,500৳\n",
       "15   Acer TravelMate TMP214-53 Core i3 11th Gen 14...  55,000৳\n",
       "16   Lenovo IdeaPad Slim 3i 11th Gen Core i3 256GB...  54,000৳\n",
       "17   Acer TravelMate TMP215-53 Core i3 11th Gen 15...  55,000৳\n",
       "18   Toshiba Dynabook Satellite Pro C40-G-13E Core...  55,000৳\n",
       "19   HP 15s-du3611TU Core i3 11th Gen 15.6\" FHD La...  55,500৳"
      ]
     },
     "execution_count": 49,
     "metadata": {},
     "output_type": "execute_result"
    }
   ],
   "source": [
    "df"
   ]
  },
  {
   "cell_type": "code",
   "execution_count": 50,
   "id": "0c11eee7",
   "metadata": {},
   "outputs": [
    {
     "data": {
      "text/plain": [
       "(20, 2)"
      ]
     },
     "execution_count": 50,
     "metadata": {},
     "output_type": "execute_result"
    }
   ],
   "source": [
    "df.shape"
   ]
  },
  {
   "cell_type": "code",
   "execution_count": null,
   "id": "7445ff73",
   "metadata": {},
   "outputs": [],
   "source": []
  }
 ],
 "metadata": {
  "kernelspec": {
   "display_name": "Python 3 (ipykernel)",
   "language": "python",
   "name": "python3"
  },
  "language_info": {
   "codemirror_mode": {
    "name": "ipython",
    "version": 3
   },
   "file_extension": ".py",
   "mimetype": "text/x-python",
   "name": "python",
   "nbconvert_exporter": "python",
   "pygments_lexer": "ipython3",
   "version": "3.8.10"
  }
 },
 "nbformat": 4,
 "nbformat_minor": 5
}
