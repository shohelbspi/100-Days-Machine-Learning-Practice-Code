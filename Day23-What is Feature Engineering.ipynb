{
 "cells": [
  {
   "cell_type": "markdown",
   "id": "10151575",
   "metadata": {},
   "source": [
    "# What is Feature Engineering"
   ]
  },
  {
   "cell_type": "markdown",
   "id": "060806cc",
   "metadata": {},
   "source": [
    "####  A Feature Engineering  is the process of using domain knowledge to extract features from raw data..These features can be used to improve the performance of machine learning algorithms"
   ]
  },
  {
   "cell_type": "markdown",
   "id": "d9b8bc46",
   "metadata": {},
   "source": [
    "# Feature Engineering Types\n",
    "\n",
    "## 1. Feature Transformation\n",
    "## 2. Feature Construction\n",
    "## 3. Feature Selection\n",
    "## 4. Feature Extraction"
   ]
  },
  {
   "cell_type": "markdown",
   "id": "63d765ad",
   "metadata": {},
   "source": [
    "# 1. Feature transformation"
   ]
  },
  {
   "cell_type": "markdown",
   "id": "9aae364c",
   "metadata": {},
   "source": [
    "#### Feature transformation is the process of modifying your data . These modifications will make Machine Learning algorithms understanding easier, which will deliver better results."
   ]
  },
  {
   "cell_type": "markdown",
   "id": "8044fcb5",
   "metadata": {},
   "source": [
    "### Feature Transformation process Type"
   ]
  },
  {
   "cell_type": "markdown",
   "id": "606cf489",
   "metadata": {},
   "source": [
    "### 1. Missing value imputation\n",
    "### 2. Handling Outliers\n",
    "### 3. Feature Scaling\n",
    "### 4.Handling Categorical columns"
   ]
  },
  {
   "cell_type": "markdown",
   "id": "b83997bd",
   "metadata": {},
   "source": [
    "# 2. Feature Construction "
   ]
  },
  {
   "cell_type": "markdown",
   "id": "fd8ccdc3",
   "metadata": {},
   "source": [
    "#### Feature construction is a process which builds intermediate features from the original descriptors in a dataset. The aim is to build more efficient features"
   ]
  },
  {
   "cell_type": "markdown",
   "id": "365117ab",
   "metadata": {},
   "source": [
    "# 3. Feature Selection"
   ]
  },
  {
   "cell_type": "markdown",
   "id": "24360dc7",
   "metadata": {},
   "source": [
    "#### Feature selection is the process of isolating the most consistent, non-redundant, and relevant features to use in model construction"
   ]
  },
  {
   "cell_type": "markdown",
   "id": "0d999604",
   "metadata": {},
   "source": [
    "# 4.Feature Extraction"
   ]
  },
  {
   "cell_type": "code",
   "execution_count": null,
   "id": "9b20946b",
   "metadata": {},
   "outputs": [],
   "source": []
  }
 ],
 "metadata": {
  "kernelspec": {
   "display_name": "Python 3 (ipykernel)",
   "language": "python",
   "name": "python3"
  },
  "language_info": {
   "codemirror_mode": {
    "name": "ipython",
    "version": 3
   },
   "file_extension": ".py",
   "mimetype": "text/x-python",
   "name": "python",
   "nbconvert_exporter": "python",
   "pygments_lexer": "ipython3",
   "version": "3.8.10"
  }
 },
 "nbformat": 4,
 "nbformat_minor": 5
}
