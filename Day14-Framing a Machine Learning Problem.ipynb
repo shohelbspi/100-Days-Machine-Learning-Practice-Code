{
 "cells": [
  {
   "cell_type": "markdown",
   "id": "86abfd2c",
   "metadata": {},
   "source": [
    "### 1. Business Problem to ML Problem\n",
    "Suppose you work in chorki. One day your boss tells you how to increase revenue in chorki\n",
    "### 2. Type Of Problem\n",
    "### 3. Current Solution\n",
    "### 4. Getting Data\n",
    "###### watch time\n",
    "###### search but did not find\n",
    "###### content left in the middile\n",
    "###### clicked on recommendations\n",
    "### 5. Metrics to Measure\n",
    "### 6. Online vs Batch/Ofline\n",
    "### 7. Check Assumptions"
   ]
  },
  {
   "cell_type": "code",
   "execution_count": null,
   "id": "75dbab71",
   "metadata": {},
   "outputs": [],
   "source": []
  }
 ],
 "metadata": {
  "kernelspec": {
   "display_name": "Python 3 (ipykernel)",
   "language": "python",
   "name": "python3"
  },
  "language_info": {
   "codemirror_mode": {
    "name": "ipython",
    "version": 3
   },
   "file_extension": ".py",
   "mimetype": "text/x-python",
   "name": "python",
   "nbconvert_exporter": "python",
   "pygments_lexer": "ipython3",
   "version": "3.8.10"
  }
 },
 "nbformat": 4,
 "nbformat_minor": 5
}
